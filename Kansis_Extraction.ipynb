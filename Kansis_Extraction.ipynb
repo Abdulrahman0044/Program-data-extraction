{
 "cells": [
  {
   "cell_type": "code",
   "execution_count": 31,
   "id": "bbcb1138-626a-4d1f-a088-c5cc2bda7a74",
   "metadata": {
    "tags": []
   },
   "outputs": [
    {
     "name": "stdout",
     "output_type": "stream",
     "text": [
      "Collecting XlsxWriter\n",
      "  Obtaining dependency information for XlsxWriter from https://files.pythonhosted.org/packages/4f/64/42063c82918475ce0a63fa19063607e60969b1498ccd4220274cf808fc60/XlsxWriter-3.1.6-py3-none-any.whl.metadata\n",
      "  Downloading XlsxWriter-3.1.6-py3-none-any.whl.metadata (2.6 kB)\n",
      "Downloading XlsxWriter-3.1.6-py3-none-any.whl (154 kB)\n",
      "   ---------------------------------------- 0.0/154.3 kB ? eta -:--:--\n",
      "   ------- -------------------------------- 30.7/154.3 kB 1.3 MB/s eta 0:00:01\n",
      "   --------------- ----------------------- 61.4/154.3 kB 656.4 kB/s eta 0:00:01\n",
      "   --------------------------- ---------- 112.6/154.3 kB 819.2 kB/s eta 0:00:01\n",
      "   -------------------------------------  153.6/154.3 kB 833.5 kB/s eta 0:00:01\n",
      "   -------------------------------------- 154.3/154.3 kB 615.6 kB/s eta 0:00:00\n",
      "Installing collected packages: XlsxWriter\n",
      "Successfully installed XlsxWriter-3.1.6\n",
      "Note: you may need to restart the kernel to use updated packages.\n"
     ]
    }
   ],
   "source": [
    "# Install the necessary library\n",
    "!pip install XlsxWriter # This library is necessary to save an excel file"
   ]
  },
  {
   "cell_type": "code",
   "execution_count": 2,
   "id": "21d1a57e-56ac-49b7-b7ea-ec2475736357",
   "metadata": {
    "tags": []
   },
   "outputs": [],
   "source": [
    "# import the necessary libraries\n",
    "import pandas as pd\n",
    "import numpy as np"
   ]
  },
  {
   "cell_type": "code",
   "execution_count": 3,
   "id": "520398ef-c698-4f18-a49b-69034392b699",
   "metadata": {
    "tags": []
   },
   "outputs": [],
   "source": [
    "# Get the path to the data\n",
    "file_path = \"/Users/HP/Downloads/Kansis23.csv (1)/Kansis23.csv\""
   ]
  },
  {
   "cell_type": "markdown",
   "id": "94a3f166-b144-4059-aa09-d2b2c7455ac9",
   "metadata": {},
   "source": [
    "### Read the dataset"
   ]
  },
  {
   "cell_type": "code",
   "execution_count": 4,
   "id": "280ae436-2533-4ddc-8c5e-423b0df483b5",
   "metadata": {
    "tags": []
   },
   "outputs": [],
   "source": [
    "# pd.read_csv is used to read the excel file\n",
    "df = pd.read_csv(file_path)"
   ]
  },
  {
   "cell_type": "code",
   "execution_count": 5,
   "id": "4d8e211b-ea91-4557-90ad-1823146bc05f",
   "metadata": {
    "tags": []
   },
   "outputs": [
    {
     "data": {
      "text/html": [
       "<div>\n",
       "<style scoped>\n",
       "    .dataframe tbody tr th:only-of-type {\n",
       "        vertical-align: middle;\n",
       "    }\n",
       "\n",
       "    .dataframe tbody tr th {\n",
       "        vertical-align: top;\n",
       "    }\n",
       "\n",
       "    .dataframe thead th {\n",
       "        text-align: right;\n",
       "    }\n",
       "</style>\n",
       "<table border=\"1\" class=\"dataframe\">\n",
       "  <thead>\n",
       "    <tr style=\"text-align: right;\">\n",
       "      <th></th>\n",
       "      <th>Timestamp</th>\n",
       "      <th>Username</th>\n",
       "      <th>Full Name</th>\n",
       "      <th>E-mail (input your working email)</th>\n",
       "      <th>Phone Number</th>\n",
       "      <th>Alternative phone number</th>\n",
       "      <th>Gender</th>\n",
       "      <th>Date of birth</th>\n",
       "      <th>State</th>\n",
       "      <th>Current residence</th>\n",
       "      <th>Country</th>\n",
       "      <th>Highest level of education</th>\n",
       "      <th>How do you plan to join the event?</th>\n",
       "      <th>Would you like to make a presentation?</th>\n",
       "      <th>If yes, write a brief about the topic</th>\n",
       "      <th>Are you willing to share your success story during and after the event?</th>\n",
       "    </tr>\n",
       "  </thead>\n",
       "  <tbody>\n",
       "    <tr>\n",
       "      <th>0</th>\n",
       "      <td>2023/09/05 4:26:15 PM GMT+1</td>\n",
       "      <td>nazifiyahayamaikano@gmail.com</td>\n",
       "      <td>Nazifi Yahaya Maikano</td>\n",
       "      <td>nazifiyahayamaikano@gmail.com</td>\n",
       "      <td>08097728360</td>\n",
       "      <td>08062339764</td>\n",
       "      <td>Male</td>\n",
       "      <td>1994-12-16</td>\n",
       "      <td>Kano</td>\n",
       "      <td>Fagge Kano</td>\n",
       "      <td>Nigeria</td>\n",
       "      <td>Degree/HND</td>\n",
       "      <td>Physically in Kano</td>\n",
       "      <td>No</td>\n",
       "      <td>No</td>\n",
       "      <td>Yes</td>\n",
       "    </tr>\n",
       "    <tr>\n",
       "      <th>1</th>\n",
       "      <td>2023/09/05 5:04:27 PM GMT+1</td>\n",
       "      <td>sadiqsani441@gmail.com</td>\n",
       "      <td>Sadik Sani Adam</td>\n",
       "      <td>sadiqsani441@gmail.com</td>\n",
       "      <td>08102694770</td>\n",
       "      <td>NaN</td>\n",
       "      <td>Male</td>\n",
       "      <td>2000-08-08</td>\n",
       "      <td>Kano</td>\n",
       "      <td>Kurna makaranta kano state</td>\n",
       "      <td>Nigeria</td>\n",
       "      <td>SSCE</td>\n",
       "      <td>Physically in Kano</td>\n",
       "      <td>No</td>\n",
       "      <td>No</td>\n",
       "      <td>Maybe</td>\n",
       "    </tr>\n",
       "    <tr>\n",
       "      <th>2</th>\n",
       "      <td>2023/09/05 6:01:42 PM GMT+1</td>\n",
       "      <td>ismaaga6@gmail.com</td>\n",
       "      <td>Ismail Auwal</td>\n",
       "      <td>Ismaaga6@gmail.com</td>\n",
       "      <td>+2348065895152</td>\n",
       "      <td>NaN</td>\n",
       "      <td>Male</td>\n",
       "      <td>1993-01-28</td>\n",
       "      <td>Kano</td>\n",
       "      <td>Kano</td>\n",
       "      <td>Nigeria</td>\n",
       "      <td>Degree/HND</td>\n",
       "      <td>Physically in Kano</td>\n",
       "      <td>Yes</td>\n",
       "      <td>Are humans in danger from artificial intellige...</td>\n",
       "      <td>Yes</td>\n",
       "    </tr>\n",
       "    <tr>\n",
       "      <th>3</th>\n",
       "      <td>2023/09/05 8:01:39 PM GMT+1</td>\n",
       "      <td>ibmwali11@gmail.com</td>\n",
       "      <td>Ibrahim Muhammad Abubakar</td>\n",
       "      <td>ibmwali11@gmail.com</td>\n",
       "      <td>08036504047</td>\n",
       "      <td>08032395888</td>\n",
       "      <td>Male</td>\n",
       "      <td>1996-06-07</td>\n",
       "      <td>Kano state</td>\n",
       "      <td>Kano state</td>\n",
       "      <td>Nigeria</td>\n",
       "      <td>Degree/HND</td>\n",
       "      <td>Physically in Kano</td>\n",
       "      <td>No</td>\n",
       "      <td>Positive interaction among ourselves key to go...</td>\n",
       "      <td>Yes</td>\n",
       "    </tr>\n",
       "    <tr>\n",
       "      <th>4</th>\n",
       "      <td>2023/09/05 8:10:46 PM GMT+1</td>\n",
       "      <td>muhammadhassan5047@gmail.com</td>\n",
       "      <td>Muhammad Hassan Adam</td>\n",
       "      <td>muhammadhassan5047@gmail.com</td>\n",
       "      <td>08060745047</td>\n",
       "      <td>NaN</td>\n",
       "      <td>Male</td>\n",
       "      <td>1997-06-26</td>\n",
       "      <td>Kano</td>\n",
       "      <td>Kano</td>\n",
       "      <td>Nigeria</td>\n",
       "      <td>Degree/HND</td>\n",
       "      <td>Physically in Kano</td>\n",
       "      <td>No</td>\n",
       "      <td>No</td>\n",
       "      <td>Yes</td>\n",
       "    </tr>\n",
       "  </tbody>\n",
       "</table>\n",
       "</div>"
      ],
      "text/plain": [
       "                     Timestamp                       Username  \\\n",
       "0  2023/09/05 4:26:15 PM GMT+1  nazifiyahayamaikano@gmail.com   \n",
       "1  2023/09/05 5:04:27 PM GMT+1         sadiqsani441@gmail.com   \n",
       "2  2023/09/05 6:01:42 PM GMT+1             ismaaga6@gmail.com   \n",
       "3  2023/09/05 8:01:39 PM GMT+1            ibmwali11@gmail.com   \n",
       "4  2023/09/05 8:10:46 PM GMT+1   muhammadhassan5047@gmail.com   \n",
       "\n",
       "                    Full Name E-mail (input your working email)  \\\n",
       "0       Nazifi Yahaya Maikano     nazifiyahayamaikano@gmail.com   \n",
       "1            Sadik Sani Adam            sadiqsani441@gmail.com    \n",
       "2                Ismail Auwal                Ismaaga6@gmail.com   \n",
       "3  Ibrahim Muhammad Abubakar                ibmwali11@gmail.com   \n",
       "4        Muhammad Hassan Adam      muhammadhassan5047@gmail.com   \n",
       "\n",
       "     Phone Number Alternative phone number Gender Date of birth        State  \\\n",
       "0     08097728360              08062339764   Male    1994-12-16         Kano   \n",
       "1     08102694770                      NaN   Male    2000-08-08         Kano   \n",
       "2  +2348065895152                      NaN   Male    1993-01-28         Kano   \n",
       "3     08036504047              08032395888   Male    1996-06-07  Kano state    \n",
       "4     08060745047                      NaN   Male    1997-06-26         Kano   \n",
       "\n",
       "             Current residence   Country Highest level of education  \\\n",
       "0                   Fagge Kano   Nigeria                 Degree/HND   \n",
       "1  Kurna makaranta kano state   Nigeria                        SSCE   \n",
       "2                         Kano  Nigeria                  Degree/HND   \n",
       "3                  Kano state   Nigeria                  Degree/HND   \n",
       "4                         Kano  Nigeria                  Degree/HND   \n",
       "\n",
       "  How do you plan to join the event? Would you like to make a presentation?  \\\n",
       "0                 Physically in Kano                                     No   \n",
       "1                 Physically in Kano                                     No   \n",
       "2                 Physically in Kano                                    Yes   \n",
       "3                 Physically in Kano                                     No   \n",
       "4                 Physically in Kano                                     No   \n",
       "\n",
       "              If yes, write a brief about the topic   \\\n",
       "0                                                 No   \n",
       "1                                                 No   \n",
       "2  Are humans in danger from artificial intellige...   \n",
       "3  Positive interaction among ourselves key to go...   \n",
       "4                                                 No   \n",
       "\n",
       "  Are you willing to share your success story during and after the event?  \n",
       "0                                                Yes                       \n",
       "1                                              Maybe                       \n",
       "2                                                Yes                       \n",
       "3                                                Yes                       \n",
       "4                                                Yes                       "
      ]
     },
     "execution_count": 5,
     "metadata": {},
     "output_type": "execute_result"
    }
   ],
   "source": [
    "# Display the first 5 rows\n",
    "df.head()"
   ]
  },
  {
   "cell_type": "code",
   "execution_count": 6,
   "id": "d57d57c9-1d8a-4e2e-b9c9-5f141d00e39d",
   "metadata": {
    "tags": []
   },
   "outputs": [
    {
     "name": "stdout",
     "output_type": "stream",
     "text": [
      "<class 'pandas.core.frame.DataFrame'>\n",
      "RangeIndex: 649 entries, 0 to 648\n",
      "Data columns (total 16 columns):\n",
      " #   Column                                                                   Non-Null Count  Dtype \n",
      "---  ------                                                                   --------------  ----- \n",
      " 0   Timestamp                                                                649 non-null    object\n",
      " 1   Username                                                                 649 non-null    object\n",
      " 2   Full Name                                                                649 non-null    object\n",
      " 3   E-mail (input your working email)                                        649 non-null    object\n",
      " 4   Phone Number                                                             649 non-null    object\n",
      " 5   Alternative phone number                                                 517 non-null    object\n",
      " 6   Gender                                                                   649 non-null    object\n",
      " 7   Date of birth                                                            649 non-null    object\n",
      " 8   State                                                                    649 non-null    object\n",
      " 9   Current residence                                                        649 non-null    object\n",
      " 10  Country                                                                  649 non-null    object\n",
      " 11  Highest level of education                                               649 non-null    object\n",
      " 12  How do you plan to join the event?                                       649 non-null    object\n",
      " 13  Would you like to make a presentation?                                   649 non-null    object\n",
      " 14  If yes, write a brief about the topic                                    416 non-null    object\n",
      " 15  Are you willing to share your success story during and after the event?  649 non-null    object\n",
      "dtypes: object(16)\n",
      "memory usage: 81.3+ KB\n"
     ]
    }
   ],
   "source": [
    "# Get information about the data\n",
    "df.info()"
   ]
  },
  {
   "cell_type": "code",
   "execution_count": 7,
   "id": "e6c3fc08-e29b-4ade-8cec-561fa9baef91",
   "metadata": {
    "tags": []
   },
   "outputs": [],
   "source": [
    "# Delete the rows that are useful for the work\n",
    "df.drop(\"Timestamp\", axis=1, inplace=True)\n",
    "df.drop(\"Username\", axis=1, inplace=True)\n",
    "df.drop(\"Date of birth\", axis=1, inplace=True)\n",
    "df.drop(\"Alternative phone number\", axis=1, inplace=True)\n",
    "df.drop(\"Gender\", axis=1, inplace=True)\n",
    "df.drop(\"State\", axis=1, inplace=True)\n",
    "df.drop(\"Current residence\", axis=1, inplace=True)\n",
    "df.drop(\"Country\", axis=1, inplace=True)\n",
    "df.drop(\"How do you plan to join the event?\", axis=1, inplace=True)\n",
    "df.drop(\"Are you willing to share your success story during and after the event?\", axis=1, inplace=True)"
   ]
  },
  {
   "cell_type": "code",
   "execution_count": 8,
   "id": "e8759553-f787-494f-b2d4-7e33be961a12",
   "metadata": {
    "tags": []
   },
   "outputs": [
    {
     "name": "stdout",
     "output_type": "stream",
     "text": [
      "<class 'pandas.core.frame.DataFrame'>\n",
      "RangeIndex: 649 entries, 0 to 648\n",
      "Data columns (total 6 columns):\n",
      " #   Column                                  Non-Null Count  Dtype \n",
      "---  ------                                  --------------  ----- \n",
      " 0   Full Name                               649 non-null    object\n",
      " 1   E-mail (input your working email)       649 non-null    object\n",
      " 2   Phone Number                            649 non-null    object\n",
      " 3   Highest level of education              649 non-null    object\n",
      " 4   Would you like to make a presentation?  649 non-null    object\n",
      " 5   If yes, write a brief about the topic   416 non-null    object\n",
      "dtypes: object(6)\n",
      "memory usage: 30.6+ KB\n"
     ]
    }
   ],
   "source": [
    "# Check back again after deleting the columns\n",
    "df.info()"
   ]
  },
  {
   "cell_type": "code",
   "execution_count": 9,
   "id": "0ed88866-c0cc-4769-9259-e203a456584f",
   "metadata": {
    "tags": []
   },
   "outputs": [
    {
     "data": {
      "text/html": [
       "<div>\n",
       "<style scoped>\n",
       "    .dataframe tbody tr th:only-of-type {\n",
       "        vertical-align: middle;\n",
       "    }\n",
       "\n",
       "    .dataframe tbody tr th {\n",
       "        vertical-align: top;\n",
       "    }\n",
       "\n",
       "    .dataframe thead th {\n",
       "        text-align: right;\n",
       "    }\n",
       "</style>\n",
       "<table border=\"1\" class=\"dataframe\">\n",
       "  <thead>\n",
       "    <tr style=\"text-align: right;\">\n",
       "      <th></th>\n",
       "      <th>Full Name</th>\n",
       "      <th>E-mail (input your working email)</th>\n",
       "      <th>Phone Number</th>\n",
       "      <th>Highest level of education</th>\n",
       "      <th>Would you like to make a presentation?</th>\n",
       "      <th>If yes, write a brief about the topic</th>\n",
       "    </tr>\n",
       "  </thead>\n",
       "  <tbody>\n",
       "    <tr>\n",
       "      <th>0</th>\n",
       "      <td>Nazifi Yahaya Maikano</td>\n",
       "      <td>nazifiyahayamaikano@gmail.com</td>\n",
       "      <td>08097728360</td>\n",
       "      <td>Degree/HND</td>\n",
       "      <td>No</td>\n",
       "      <td>No</td>\n",
       "    </tr>\n",
       "    <tr>\n",
       "      <th>1</th>\n",
       "      <td>Sadik Sani Adam</td>\n",
       "      <td>sadiqsani441@gmail.com</td>\n",
       "      <td>08102694770</td>\n",
       "      <td>SSCE</td>\n",
       "      <td>No</td>\n",
       "      <td>No</td>\n",
       "    </tr>\n",
       "    <tr>\n",
       "      <th>2</th>\n",
       "      <td>Ismail Auwal</td>\n",
       "      <td>Ismaaga6@gmail.com</td>\n",
       "      <td>+2348065895152</td>\n",
       "      <td>Degree/HND</td>\n",
       "      <td>Yes</td>\n",
       "      <td>Are humans in danger from artificial intellige...</td>\n",
       "    </tr>\n",
       "    <tr>\n",
       "      <th>3</th>\n",
       "      <td>Ibrahim Muhammad Abubakar</td>\n",
       "      <td>ibmwali11@gmail.com</td>\n",
       "      <td>08036504047</td>\n",
       "      <td>Degree/HND</td>\n",
       "      <td>No</td>\n",
       "      <td>Positive interaction among ourselves key to go...</td>\n",
       "    </tr>\n",
       "    <tr>\n",
       "      <th>4</th>\n",
       "      <td>Muhammad Hassan Adam</td>\n",
       "      <td>muhammadhassan5047@gmail.com</td>\n",
       "      <td>08060745047</td>\n",
       "      <td>Degree/HND</td>\n",
       "      <td>No</td>\n",
       "      <td>No</td>\n",
       "    </tr>\n",
       "  </tbody>\n",
       "</table>\n",
       "</div>"
      ],
      "text/plain": [
       "                    Full Name E-mail (input your working email)  \\\n",
       "0       Nazifi Yahaya Maikano     nazifiyahayamaikano@gmail.com   \n",
       "1            Sadik Sani Adam            sadiqsani441@gmail.com    \n",
       "2                Ismail Auwal                Ismaaga6@gmail.com   \n",
       "3  Ibrahim Muhammad Abubakar                ibmwali11@gmail.com   \n",
       "4        Muhammad Hassan Adam      muhammadhassan5047@gmail.com   \n",
       "\n",
       "     Phone Number Highest level of education  \\\n",
       "0     08097728360                 Degree/HND   \n",
       "1     08102694770                       SSCE   \n",
       "2  +2348065895152                 Degree/HND   \n",
       "3     08036504047                 Degree/HND   \n",
       "4     08060745047                 Degree/HND   \n",
       "\n",
       "  Would you like to make a presentation?  \\\n",
       "0                                     No   \n",
       "1                                     No   \n",
       "2                                    Yes   \n",
       "3                                     No   \n",
       "4                                     No   \n",
       "\n",
       "              If yes, write a brief about the topic   \n",
       "0                                                 No  \n",
       "1                                                 No  \n",
       "2  Are humans in danger from artificial intellige...  \n",
       "3  Positive interaction among ourselves key to go...  \n",
       "4                                                 No  "
      ]
     },
     "execution_count": 9,
     "metadata": {},
     "output_type": "execute_result"
    }
   ],
   "source": [
    "# Display the data\n",
    "df.head()"
   ]
  },
  {
   "cell_type": "code",
   "execution_count": 10,
   "id": "14b6327c-75ab-480f-86e5-847232b4200e",
   "metadata": {
    "tags": []
   },
   "outputs": [
    {
     "data": {
      "text/html": [
       "<div>\n",
       "<style scoped>\n",
       "    .dataframe tbody tr th:only-of-type {\n",
       "        vertical-align: middle;\n",
       "    }\n",
       "\n",
       "    .dataframe tbody tr th {\n",
       "        vertical-align: top;\n",
       "    }\n",
       "\n",
       "    .dataframe thead th {\n",
       "        text-align: right;\n",
       "    }\n",
       "</style>\n",
       "<table border=\"1\" class=\"dataframe\">\n",
       "  <thead>\n",
       "    <tr style=\"text-align: right;\">\n",
       "      <th></th>\n",
       "      <th>Full Name</th>\n",
       "      <th>E-mail (input your working email)</th>\n",
       "      <th>Phone Number</th>\n",
       "      <th>Highest level of education</th>\n",
       "      <th>Would you like to make a presentation?</th>\n",
       "      <th>If yes, write a brief about the topic</th>\n",
       "    </tr>\n",
       "  </thead>\n",
       "  <tbody>\n",
       "    <tr>\n",
       "      <th>644</th>\n",
       "      <td>Khalid Abdullahi Isa</td>\n",
       "      <td>abdullahikhalid59@gmail.com</td>\n",
       "      <td>09069491797</td>\n",
       "      <td>SSCE</td>\n",
       "      <td>Maybe</td>\n",
       "      <td>NaN</td>\n",
       "    </tr>\n",
       "    <tr>\n",
       "      <th>645</th>\n",
       "      <td>Abubakar danladi Usman</td>\n",
       "      <td>Abubakardanladiusman2020@gmail.com</td>\n",
       "      <td>09031233760</td>\n",
       "      <td>School/national diploma</td>\n",
       "      <td>No</td>\n",
       "      <td>NaN</td>\n",
       "    </tr>\n",
       "    <tr>\n",
       "      <th>646</th>\n",
       "      <td>IBRAHIM SAID IDRIS</td>\n",
       "      <td>ibrahimsaiduidris003@gmail.com</td>\n",
       "      <td>09069172984</td>\n",
       "      <td>School/national diploma</td>\n",
       "      <td>Maybe</td>\n",
       "      <td>NaN</td>\n",
       "    </tr>\n",
       "    <tr>\n",
       "      <th>647</th>\n",
       "      <td>Muhammad yz</td>\n",
       "      <td>Moohyz@citad.com</td>\n",
       "      <td>09065564378</td>\n",
       "      <td>Degree/HND</td>\n",
       "      <td>No</td>\n",
       "      <td>NaN</td>\n",
       "    </tr>\n",
       "    <tr>\n",
       "      <th>648</th>\n",
       "      <td>Maryam Sadiq Bilyamin</td>\n",
       "      <td>yamairashettima@gmail.com</td>\n",
       "      <td>09092905178</td>\n",
       "      <td>Degree/HND</td>\n",
       "      <td>Yes</td>\n",
       "      <td>Drug Abuse or unemployment</td>\n",
       "    </tr>\n",
       "  </tbody>\n",
       "</table>\n",
       "</div>"
      ],
      "text/plain": [
       "                   Full Name   E-mail (input your working email)  \\\n",
       "644     Khalid Abdullahi Isa         abdullahikhalid59@gmail.com   \n",
       "645  Abubakar danladi Usman   Abubakardanladiusman2020@gmail.com   \n",
       "646      IBRAHIM SAID IDRIS       ibrahimsaiduidris003@gmail.com   \n",
       "647              Muhammad yz                    Moohyz@citad.com   \n",
       "648    Maryam Sadiq Bilyamin           yamairashettima@gmail.com   \n",
       "\n",
       "     Phone Number Highest level of education  \\\n",
       "644   09069491797                       SSCE   \n",
       "645  09031233760     School/national diploma   \n",
       "646   09069172984    School/national diploma   \n",
       "647   09065564378                 Degree/HND   \n",
       "648   09092905178                 Degree/HND   \n",
       "\n",
       "    Would you like to make a presentation?  \\\n",
       "644                                  Maybe   \n",
       "645                                     No   \n",
       "646                                  Maybe   \n",
       "647                                     No   \n",
       "648                                    Yes   \n",
       "\n",
       "    If yes, write a brief about the topic   \n",
       "644                                    NaN  \n",
       "645                                    NaN  \n",
       "646                                    NaN  \n",
       "647                                    NaN  \n",
       "648             Drug Abuse or unemployment  "
      ]
     },
     "execution_count": 10,
     "metadata": {},
     "output_type": "execute_result"
    }
   ],
   "source": [
    "# Display the last 5 rows\n",
    "df.tail()"
   ]
  },
  {
   "cell_type": "code",
   "execution_count": 11,
   "id": "ef7b6dee-9300-419a-ab8e-62be54f76659",
   "metadata": {
    "tags": []
   },
   "outputs": [
    {
     "data": {
      "text/html": [
       "<div>\n",
       "<style scoped>\n",
       "    .dataframe tbody tr th:only-of-type {\n",
       "        vertical-align: middle;\n",
       "    }\n",
       "\n",
       "    .dataframe tbody tr th {\n",
       "        vertical-align: top;\n",
       "    }\n",
       "\n",
       "    .dataframe thead th {\n",
       "        text-align: right;\n",
       "    }\n",
       "</style>\n",
       "<table border=\"1\" class=\"dataframe\">\n",
       "  <thead>\n",
       "    <tr style=\"text-align: right;\">\n",
       "      <th></th>\n",
       "      <th>Full Name</th>\n",
       "      <th>E-mail (input your working email)</th>\n",
       "      <th>Phone Number</th>\n",
       "      <th>Highest level of education</th>\n",
       "      <th>Would you like to make a presentation?</th>\n",
       "      <th>If yes, write a brief about the topic</th>\n",
       "    </tr>\n",
       "  </thead>\n",
       "  <tbody>\n",
       "    <tr>\n",
       "      <th>count</th>\n",
       "      <td>649</td>\n",
       "      <td>649</td>\n",
       "      <td>649</td>\n",
       "      <td>649</td>\n",
       "      <td>649</td>\n",
       "      <td>416</td>\n",
       "    </tr>\n",
       "    <tr>\n",
       "      <th>unique</th>\n",
       "      <td>623</td>\n",
       "      <td>618</td>\n",
       "      <td>619</td>\n",
       "      <td>4</td>\n",
       "      <td>3</td>\n",
       "      <td>260</td>\n",
       "    </tr>\n",
       "    <tr>\n",
       "      <th>top</th>\n",
       "      <td>Aisha sani abubakar</td>\n",
       "      <td>Yes</td>\n",
       "      <td>09069168212</td>\n",
       "      <td>Degree/HND</td>\n",
       "      <td>No</td>\n",
       "      <td>No</td>\n",
       "    </tr>\n",
       "    <tr>\n",
       "      <th>freq</th>\n",
       "      <td>4</td>\n",
       "      <td>4</td>\n",
       "      <td>4</td>\n",
       "      <td>355</td>\n",
       "      <td>318</td>\n",
       "      <td>93</td>\n",
       "    </tr>\n",
       "  </tbody>\n",
       "</table>\n",
       "</div>"
      ],
      "text/plain": [
       "                  Full Name E-mail (input your working email) Phone Number  \\\n",
       "count                   649                               649          649   \n",
       "unique                  623                               618          619   \n",
       "top     Aisha sani abubakar                               Yes  09069168212   \n",
       "freq                      4                                 4            4   \n",
       "\n",
       "       Highest level of education Would you like to make a presentation?  \\\n",
       "count                         649                                    649   \n",
       "unique                          4                                      3   \n",
       "top                    Degree/HND                                     No   \n",
       "freq                          355                                    318   \n",
       "\n",
       "       If yes, write a brief about the topic   \n",
       "count                                     416  \n",
       "unique                                    260  \n",
       "top                                        No  \n",
       "freq                                       93  "
      ]
     },
     "execution_count": 11,
     "metadata": {},
     "output_type": "execute_result"
    }
   ],
   "source": [
    "# Check the data frame\n",
    "df.describe()"
   ]
  },
  {
   "cell_type": "code",
   "execution_count": 12,
   "id": "77581e25-d946-4350-b6f2-3bd4f29768c1",
   "metadata": {
    "tags": []
   },
   "outputs": [],
   "source": [
    "# Here, we want to copy the features of df to another variable\n",
    "final_data = df.copy()"
   ]
  },
  {
   "cell_type": "code",
   "execution_count": 13,
   "id": "866772c6-17cc-4851-989c-f5dad1a2c861",
   "metadata": {
    "tags": []
   },
   "outputs": [
    {
     "data": {
      "text/html": [
       "<div>\n",
       "<style scoped>\n",
       "    .dataframe tbody tr th:only-of-type {\n",
       "        vertical-align: middle;\n",
       "    }\n",
       "\n",
       "    .dataframe tbody tr th {\n",
       "        vertical-align: top;\n",
       "    }\n",
       "\n",
       "    .dataframe thead th {\n",
       "        text-align: right;\n",
       "    }\n",
       "</style>\n",
       "<table border=\"1\" class=\"dataframe\">\n",
       "  <thead>\n",
       "    <tr style=\"text-align: right;\">\n",
       "      <th></th>\n",
       "      <th>Full Name</th>\n",
       "      <th>E-mail (input your working email)</th>\n",
       "      <th>Phone Number</th>\n",
       "      <th>Highest level of education</th>\n",
       "      <th>Would you like to make a presentation?</th>\n",
       "      <th>If yes, write a brief about the topic</th>\n",
       "    </tr>\n",
       "  </thead>\n",
       "  <tbody>\n",
       "    <tr>\n",
       "      <th>0</th>\n",
       "      <td>Nazifi Yahaya Maikano</td>\n",
       "      <td>nazifiyahayamaikano@gmail.com</td>\n",
       "      <td>08097728360</td>\n",
       "      <td>Degree/HND</td>\n",
       "      <td>No</td>\n",
       "      <td>No</td>\n",
       "    </tr>\n",
       "    <tr>\n",
       "      <th>1</th>\n",
       "      <td>Sadik Sani Adam</td>\n",
       "      <td>sadiqsani441@gmail.com</td>\n",
       "      <td>08102694770</td>\n",
       "      <td>SSCE</td>\n",
       "      <td>No</td>\n",
       "      <td>No</td>\n",
       "    </tr>\n",
       "    <tr>\n",
       "      <th>2</th>\n",
       "      <td>Ismail Auwal</td>\n",
       "      <td>Ismaaga6@gmail.com</td>\n",
       "      <td>+2348065895152</td>\n",
       "      <td>Degree/HND</td>\n",
       "      <td>Yes</td>\n",
       "      <td>Are humans in danger from artificial intellige...</td>\n",
       "    </tr>\n",
       "    <tr>\n",
       "      <th>3</th>\n",
       "      <td>Ibrahim Muhammad Abubakar</td>\n",
       "      <td>ibmwali11@gmail.com</td>\n",
       "      <td>08036504047</td>\n",
       "      <td>Degree/HND</td>\n",
       "      <td>No</td>\n",
       "      <td>Positive interaction among ourselves key to go...</td>\n",
       "    </tr>\n",
       "    <tr>\n",
       "      <th>4</th>\n",
       "      <td>Muhammad Hassan Adam</td>\n",
       "      <td>muhammadhassan5047@gmail.com</td>\n",
       "      <td>08060745047</td>\n",
       "      <td>Degree/HND</td>\n",
       "      <td>No</td>\n",
       "      <td>No</td>\n",
       "    </tr>\n",
       "  </tbody>\n",
       "</table>\n",
       "</div>"
      ],
      "text/plain": [
       "                    Full Name E-mail (input your working email)  \\\n",
       "0       Nazifi Yahaya Maikano     nazifiyahayamaikano@gmail.com   \n",
       "1            Sadik Sani Adam            sadiqsani441@gmail.com    \n",
       "2                Ismail Auwal                Ismaaga6@gmail.com   \n",
       "3  Ibrahim Muhammad Abubakar                ibmwali11@gmail.com   \n",
       "4        Muhammad Hassan Adam      muhammadhassan5047@gmail.com   \n",
       "\n",
       "     Phone Number Highest level of education  \\\n",
       "0     08097728360                 Degree/HND   \n",
       "1     08102694770                       SSCE   \n",
       "2  +2348065895152                 Degree/HND   \n",
       "3     08036504047                 Degree/HND   \n",
       "4     08060745047                 Degree/HND   \n",
       "\n",
       "  Would you like to make a presentation?  \\\n",
       "0                                     No   \n",
       "1                                     No   \n",
       "2                                    Yes   \n",
       "3                                     No   \n",
       "4                                     No   \n",
       "\n",
       "              If yes, write a brief about the topic   \n",
       "0                                                 No  \n",
       "1                                                 No  \n",
       "2  Are humans in danger from artificial intellige...  \n",
       "3  Positive interaction among ourselves key to go...  \n",
       "4                                                 No  "
      ]
     },
     "execution_count": 13,
     "metadata": {},
     "output_type": "execute_result"
    }
   ],
   "source": [
    "# Check whether it is successful\n",
    "final_data.head()"
   ]
  },
  {
   "cell_type": "markdown",
   "id": "d03f8fc2-7222-4279-82e8-23218e58caa4",
   "metadata": {},
   "source": [
    "### Extracting Attribute"
   ]
  },
  {
   "cell_type": "code",
   "execution_count": 14,
   "id": "2dd1215b-d9b0-4bc2-ae5e-bd9eb0312b76",
   "metadata": {
    "tags": []
   },
   "outputs": [
    {
     "name": "stdout",
     "output_type": "stream",
     "text": [
      "0         No\n",
      "1         No\n",
      "2        Yes\n",
      "3         No\n",
      "4         No\n",
      "       ...  \n",
      "644    Maybe\n",
      "645       No\n",
      "646    Maybe\n",
      "647       No\n",
      "648      Yes\n",
      "Name: Would you like to make a presentation?, Length: 649, dtype: object\n"
     ]
    }
   ],
   "source": [
    "# Create a variable to store the required column \n",
    "target = final_data[\"Would you like to make a presentation?\"]\n",
    "print(target) # Check out"
   ]
  },
  {
   "cell_type": "code",
   "execution_count": 15,
   "id": "19d4f262-0914-4564-a72d-73af581d6cd0",
   "metadata": {
    "tags": []
   },
   "outputs": [
    {
     "name": "stdout",
     "output_type": "stream",
     "text": [
      "                 Full Name E-mail (input your working email)    Phone Number  \\\n",
      "2             Ismail Auwal                Ismaaga6@gmail.com  +2348065895152   \n",
      "12   Muhammad Hafiz Nagogo    Muhammadhafeeznagogo@gmail.com     08069073009   \n",
      "15        Ahmad Rufai Musa            msahmadrufai@gmail.com     08037955918   \n",
      "20        Abubakar Salisu                sabba7032@gmail.com      7031513896   \n",
      "30   Aminu Muhammad lawan        Aminulmuhammad06@gmail.com      08133827732   \n",
      "..                     ...                               ...             ...   \n",
      "631  Ahmad auwalu  katagum                           Online      08143798669   \n",
      "632   Sadiya Lawal Danyaro        sdanyaro@fudutsinma.edu.ng     07060983198   \n",
      "636       Nasiru Abubakar            nasirumar737@gmail.com      07068890883   \n",
      "639             Adamu Dabo               daboadamu@gmail.com     08033973309   \n",
      "648  Maryam Sadiq Bilyamin         yamairashettima@gmail.com     09092905178   \n",
      "\n",
      "    Highest level of education Would you like to make a presentation?  \\\n",
      "2                   Degree/HND                                    Yes   \n",
      "12                        SSCE                                    Yes   \n",
      "15                  Degree/HND                                    Yes   \n",
      "20                        SSCE                                    Yes   \n",
      "30                        SSCE                                    Yes   \n",
      "..                         ...                                    ...   \n",
      "631   Professional certificate                                    Yes   \n",
      "632                 Degree/HND                                    Yes   \n",
      "636    School/national diploma                                    Yes   \n",
      "639                 Degree/HND                                    Yes   \n",
      "648                 Degree/HND                                    Yes   \n",
      "\n",
      "                If yes, write a brief about the topic   \n",
      "2    Are humans in danger from artificial intellige...  \n",
      "12   Gender-based violence (GBV) is a serious viola...  \n",
      "15   ICT and Enterpreneuship as Panacea to Youth Id...  \n",
      "20                        I want to improve knowledge   \n",
      "30                                               Good   \n",
      "..                                                 ...  \n",
      "631                               Verval presentation   \n",
      "632  *Digital Literacy for Women and Girls*   Digit...  \n",
      "636  Gender violence Gender-based violence refers t...  \n",
      "639  One of the basic effect of digital Journalism ...  \n",
      "648                         Drug Abuse or unemployment  \n",
      "\n",
      "[136 rows x 6 columns]\n",
      "136\n"
     ]
    }
   ],
   "source": [
    "# Extract the 'yes' answers from the column\n",
    "yes_selections = final_data[target == 'Yes']\n",
    "print(yes_selections) # Extracted\n",
    "print(len(yes_selections))"
   ]
  },
  {
   "cell_type": "code",
   "execution_count": 16,
   "id": "1c85dd78-ff9c-4a5d-853d-0f2784104efa",
   "metadata": {
    "tags": []
   },
   "outputs": [
    {
     "data": {
      "text/html": [
       "<div>\n",
       "<style scoped>\n",
       "    .dataframe tbody tr th:only-of-type {\n",
       "        vertical-align: middle;\n",
       "    }\n",
       "\n",
       "    .dataframe tbody tr th {\n",
       "        vertical-align: top;\n",
       "    }\n",
       "\n",
       "    .dataframe thead th {\n",
       "        text-align: right;\n",
       "    }\n",
       "</style>\n",
       "<table border=\"1\" class=\"dataframe\">\n",
       "  <thead>\n",
       "    <tr style=\"text-align: right;\">\n",
       "      <th></th>\n",
       "      <th>Full Name</th>\n",
       "      <th>E-mail (input your working email)</th>\n",
       "      <th>Phone Number</th>\n",
       "      <th>Highest level of education</th>\n",
       "      <th>Would you like to make a presentation?</th>\n",
       "      <th>If yes, write a brief about the topic</th>\n",
       "    </tr>\n",
       "  </thead>\n",
       "  <tbody>\n",
       "    <tr>\n",
       "      <th>2</th>\n",
       "      <td>Ismail Auwal</td>\n",
       "      <td>Ismaaga6@gmail.com</td>\n",
       "      <td>+2348065895152</td>\n",
       "      <td>Degree/HND</td>\n",
       "      <td>Yes</td>\n",
       "      <td>Are humans in danger from artificial intellige...</td>\n",
       "    </tr>\n",
       "    <tr>\n",
       "      <th>12</th>\n",
       "      <td>Muhammad Hafiz Nagogo</td>\n",
       "      <td>Muhammadhafeeznagogo@gmail.com</td>\n",
       "      <td>08069073009</td>\n",
       "      <td>SSCE</td>\n",
       "      <td>Yes</td>\n",
       "      <td>Gender-based violence (GBV) is a serious viola...</td>\n",
       "    </tr>\n",
       "    <tr>\n",
       "      <th>15</th>\n",
       "      <td>Ahmad Rufai Musa</td>\n",
       "      <td>msahmadrufai@gmail.com</td>\n",
       "      <td>08037955918</td>\n",
       "      <td>Degree/HND</td>\n",
       "      <td>Yes</td>\n",
       "      <td>ICT and Enterpreneuship as Panacea to Youth Id...</td>\n",
       "    </tr>\n",
       "    <tr>\n",
       "      <th>20</th>\n",
       "      <td>Abubakar Salisu</td>\n",
       "      <td>sabba7032@gmail.com</td>\n",
       "      <td>7031513896</td>\n",
       "      <td>SSCE</td>\n",
       "      <td>Yes</td>\n",
       "      <td>I want to improve knowledge</td>\n",
       "    </tr>\n",
       "    <tr>\n",
       "      <th>30</th>\n",
       "      <td>Aminu Muhammad lawan</td>\n",
       "      <td>Aminulmuhammad06@gmail.com</td>\n",
       "      <td>08133827732</td>\n",
       "      <td>SSCE</td>\n",
       "      <td>Yes</td>\n",
       "      <td>Good</td>\n",
       "    </tr>\n",
       "  </tbody>\n",
       "</table>\n",
       "</div>"
      ],
      "text/plain": [
       "                Full Name E-mail (input your working email)    Phone Number  \\\n",
       "2            Ismail Auwal                Ismaaga6@gmail.com  +2348065895152   \n",
       "12  Muhammad Hafiz Nagogo    Muhammadhafeeznagogo@gmail.com     08069073009   \n",
       "15       Ahmad Rufai Musa            msahmadrufai@gmail.com     08037955918   \n",
       "20       Abubakar Salisu                sabba7032@gmail.com      7031513896   \n",
       "30  Aminu Muhammad lawan        Aminulmuhammad06@gmail.com      08133827732   \n",
       "\n",
       "   Highest level of education Would you like to make a presentation?  \\\n",
       "2                  Degree/HND                                    Yes   \n",
       "12                       SSCE                                    Yes   \n",
       "15                 Degree/HND                                    Yes   \n",
       "20                       SSCE                                    Yes   \n",
       "30                       SSCE                                    Yes   \n",
       "\n",
       "               If yes, write a brief about the topic   \n",
       "2   Are humans in danger from artificial intellige...  \n",
       "12  Gender-based violence (GBV) is a serious viola...  \n",
       "15  ICT and Enterpreneuship as Panacea to Youth Id...  \n",
       "20                       I want to improve knowledge   \n",
       "30                                              Good   "
      ]
     },
     "execution_count": 16,
     "metadata": {},
     "output_type": "execute_result"
    }
   ],
   "source": [
    "# Display the data frame\n",
    "yes_selections.head(5)"
   ]
  },
  {
   "cell_type": "code",
   "execution_count": 17,
   "id": "d9126d2a-2b27-4d5a-88df-0c925239a35a",
   "metadata": {
    "tags": []
   },
   "outputs": [
    {
     "data": {
      "text/plain": [
       "Index(['Full Name', 'E-mail (input your working email)', 'Phone Number',\n",
       "       'Highest level of education', 'Would you like to make a presentation?',\n",
       "       'If yes, write a brief about the topic '],\n",
       "      dtype='object')"
      ]
     },
     "execution_count": 17,
     "metadata": {},
     "output_type": "execute_result"
    }
   ],
   "source": [
    "# Get the columns\n",
    "final_data.columns"
   ]
  },
  {
   "cell_type": "code",
   "execution_count": 18,
   "id": "fc47e727-10cc-4411-a3f2-c333f6641a64",
   "metadata": {
    "tags": []
   },
   "outputs": [
    {
     "name": "stdout",
     "output_type": "stream",
     "text": [
      "After modifying the columns\n",
      " Index(['index', 'Name', 'email', 'Number', 'Education', 'Presenter', 'Topic'], dtype='object')\n"
     ]
    }
   ],
   "source": [
    "# renaming the columns and inser a new column \"index' to the dataframe\n",
    "final_data['index'] = range(1, len(final_data) +1)\n",
    "index_column = final_data.pop(\"index\")\n",
    "ID = [final_data.insert(0, \"index\", index_column)]\n",
    "final_data_pdFrame = pd.DataFrame(final_data)\n",
    "final_data_pdFrame.rename(columns={'Full Name':'Name',\n",
    "                                   'E-mail (input your working email)':'email',\n",
    "                                   'Phone Number':'Number',\n",
    "                                   'Highest level of education':'Education',\n",
    "                                   'Would you like to make a presentation?':'Presenter',\n",
    "                                   'If yes, write a brief about the topic ':'Topic'},\n",
    "                                   inplace = True)\n",
    "print(\"After modifying the columns\\n\", final_data_pdFrame.columns)"
   ]
  },
  {
   "cell_type": "code",
   "execution_count": 19,
   "id": "df687b64-ecc9-404e-82ed-c150caea79db",
   "metadata": {
    "tags": []
   },
   "outputs": [
    {
     "name": "stdout",
     "output_type": "stream",
     "text": [
      "<class 'pandas.core.frame.DataFrame'>\n",
      "RangeIndex: 649 entries, 0 to 648\n",
      "Data columns (total 7 columns):\n",
      " #   Column     Non-Null Count  Dtype \n",
      "---  ------     --------------  ----- \n",
      " 0   index      649 non-null    int64 \n",
      " 1   Name       649 non-null    object\n",
      " 2   email      649 non-null    object\n",
      " 3   Number     649 non-null    object\n",
      " 4   Education  649 non-null    object\n",
      " 5   Presenter  649 non-null    object\n",
      " 6   Topic      416 non-null    object\n",
      "dtypes: int64(1), object(6)\n",
      "memory usage: 35.6+ KB\n"
     ]
    }
   ],
   "source": [
    "# Check whether the names have changed\n",
    "final_data.info()"
   ]
  },
  {
   "cell_type": "markdown",
   "id": "e0ae5c4e-87c2-4e49-831a-750626478b3d",
   "metadata": {
    "tags": []
   },
   "source": [
    "### Download the file"
   ]
  },
  {
   "cell_type": "code",
   "execution_count": 20,
   "id": "8b73d353-59e5-4822-945c-ced0541ca4ea",
   "metadata": {
    "tags": []
   },
   "outputs": [
    {
     "name": "stderr",
     "output_type": "stream",
     "text": [
      "C:\\Users\\HP\\AppData\\Local\\Temp\\ipykernel_3672\\2291127224.py:8: FutureWarning: save is not part of the public API, usage can give unexpected results and will be removed in a future version\n",
      "  excel_writer.save()\n"
     ]
    },
    {
     "name": "stdout",
     "output_type": "stream",
     "text": [
      "Excel file 'presenters.xlsx' created successfully.\n"
     ]
    }
   ],
   "source": [
    "# Create an Excel writer object\n",
    "excel_writer = pd.ExcelWriter('presenters.xlsx', engine='xlsxwriter')\n",
    "\n",
    "# Write the DataFrame to the Excel file\n",
    "yes_selections.to_excel(excel_writer, sheet_name='Sheet 1', index=False)\n",
    "\n",
    "# Save the Excel file\n",
    "excel_writer.save()\n",
    "\n",
    "print(\"Excel file 'presenters.xlsx' created successfully.\")\n"
   ]
  },
  {
   "cell_type": "code",
   "execution_count": 46,
   "id": "32d94bd1-e2f9-439d-b13f-1abcc5a0465d",
   "metadata": {},
   "outputs": [],
   "source": [
    "# Save the text format \n",
    "text_writer = pd.DataFrame(yes_selections)\n",
    "text_writer.to_csv('topic.txt', sep='\\t', index = False)"
   ]
  },
  {
   "cell_type": "code",
   "execution_count": null,
   "id": "8756b271-427b-41ef-8e84-0310978ddbce",
   "metadata": {
    "tags": []
   },
   "outputs": [],
   "source": []
  },
  {
   "cell_type": "code",
   "execution_count": null,
   "id": "92343a49-b83d-45aa-bb90-2d346106bf71",
   "metadata": {},
   "outputs": [],
   "source": []
  }
 ],
 "metadata": {
  "kernelspec": {
   "display_name": "Python 3 (ipykernel)",
   "language": "python",
   "name": "python3"
  },
  "language_info": {
   "codemirror_mode": {
    "name": "ipython",
    "version": 3
   },
   "file_extension": ".py",
   "mimetype": "text/x-python",
   "name": "python",
   "nbconvert_exporter": "python",
   "pygments_lexer": "ipython3",
   "version": "3.11.4"
  }
 },
 "nbformat": 4,
 "nbformat_minor": 5
}
